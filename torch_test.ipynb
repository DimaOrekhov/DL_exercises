{
 "cells": [
  {
   "cell_type": "code",
   "execution_count": 1,
   "metadata": {},
   "outputs": [],
   "source": [
    "import torch"
   ]
  },
  {
   "cell_type": "code",
   "execution_count": 2,
   "metadata": {},
   "outputs": [],
   "source": [
    "tarr = torch.randn((3, 10, 5))"
   ]
  },
  {
   "cell_type": "code",
   "execution_count": 6,
   "metadata": {},
   "outputs": [
    {
     "data": {
      "text/plain": [
       "torch.Size([3, 10, 5, 1])"
      ]
     },
     "execution_count": 6,
     "metadata": {},
     "output_type": "execute_result"
    }
   ],
   "source": [
    "tarr.unsqueeze(-1).shape"
   ]
  },
  {
   "cell_type": "code",
   "execution_count": 7,
   "metadata": {},
   "outputs": [
    {
     "data": {
      "text/plain": [
       "torch.Size([3, 10, 1, 5])"
      ]
     },
     "execution_count": 7,
     "metadata": {},
     "output_type": "execute_result"
    }
   ],
   "source": [
    "tarr.unsqueeze(-2).shape"
   ]
  },
  {
   "cell_type": "markdown",
   "metadata": {},
   "source": [
    ".squeeze method deletes axis with dimension 1"
   ]
  },
  {
   "cell_type": "code",
   "execution_count": 8,
   "metadata": {},
   "outputs": [
    {
     "data": {
      "text/plain": [
       "tensor([[[-1.5014e+00, -5.5624e-01,  1.1889e+00,  1.3661e+00, -1.5982e+00],\n",
       "         [ 1.1911e+00, -2.0396e-01, -7.9685e-01, -4.1644e-01,  8.0221e-02],\n",
       "         [ 5.2002e-01, -1.1483e+00,  2.4928e-01, -2.5517e-01,  3.0056e-01],\n",
       "         [-1.2059e+00, -9.9621e-01, -9.3049e-01, -1.0939e-01, -5.8661e-01],\n",
       "         [ 9.6281e-01, -4.2118e-02,  1.3809e+00,  9.3642e-01, -6.3076e-01],\n",
       "         [ 4.3893e-01,  1.4445e+00, -9.8262e-01, -6.2343e-01,  2.5483e-01],\n",
       "         [ 6.0130e-01,  9.8782e-01,  1.0378e+00, -1.9691e+00, -4.2899e-01],\n",
       "         [ 4.0865e-01,  2.7231e-01,  1.4640e+00,  3.9323e-01,  9.3865e-01],\n",
       "         [ 1.6931e+00,  1.2529e+00,  3.1230e-01, -4.6078e-01,  1.7605e+00],\n",
       "         [-3.1636e-01,  5.7017e-02,  1.1658e+00,  3.8185e-01, -5.4728e-02]],\n",
       "\n",
       "        [[ 1.4891e+00,  3.0374e-01, -1.5207e-01,  5.9224e-01, -8.9239e-01],\n",
       "         [-7.8213e-02, -4.4731e-01,  1.0091e-03,  7.8718e-01,  1.0241e+00],\n",
       "         [ 3.2527e-01, -3.6763e-01, -1.6856e-01, -5.4593e-01, -3.2378e-01],\n",
       "         [ 3.5387e-01,  4.8572e-01,  1.4636e+00, -1.0572e-01,  5.2152e-01],\n",
       "         [-8.4189e-02,  5.7515e-01, -2.3145e-01, -1.9709e+00, -1.1319e+00],\n",
       "         [ 2.7446e-01,  6.5017e-02,  1.1991e-02, -1.5583e+00, -9.2635e-01],\n",
       "         [-1.4644e+00, -1.2448e+00, -2.6001e+00,  6.5420e-01,  8.3737e-01],\n",
       "         [-5.1069e-01, -1.2828e+00,  1.5446e+00,  7.0767e-01, -1.1734e+00],\n",
       "         [-5.1089e-01,  2.7466e-01,  9.2388e-01,  3.6783e-01,  2.4219e-01],\n",
       "         [-1.1817e+00,  2.7010e-03,  2.4097e-01,  8.0526e-01, -4.9522e-01]],\n",
       "\n",
       "        [[ 1.3496e-01, -9.1624e-01, -5.3821e-01,  1.5380e+00,  5.2383e-01],\n",
       "         [ 2.8863e-01, -2.7144e-02, -4.4814e-02, -7.2035e-01, -1.4093e+00],\n",
       "         [ 1.0821e-01,  8.9176e-01,  1.6463e+00,  4.3564e-01, -7.3534e-01],\n",
       "         [-1.3338e+00, -3.3841e-01,  3.2367e-01,  2.3909e-01,  1.6334e+00],\n",
       "         [ 1.2733e+00, -1.1028e+00,  5.5991e-01, -1.5988e-01,  6.0597e-01],\n",
       "         [-6.1335e-02,  7.2826e-02,  1.4893e-01,  7.0342e-01,  7.6634e-01],\n",
       "         [ 3.6626e-01, -1.9134e+00,  4.2911e-01, -8.9209e-02, -2.3476e-01],\n",
       "         [-2.6421e+00,  6.3741e-02, -2.9017e-01,  7.9998e-01,  2.2925e-01],\n",
       "         [-2.2202e-01,  7.1817e-01, -6.4111e-01, -7.7147e-01,  3.0132e-01],\n",
       "         [-2.2815e+00,  4.4959e-01,  5.9678e-01, -2.4298e+00, -1.7764e+00]]])"
      ]
     },
     "execution_count": 8,
     "metadata": {},
     "output_type": "execute_result"
    }
   ],
   "source": [
    "tarr.expand((3, 10, 5))"
   ]
  },
  {
   "cell_type": "code",
   "execution_count": null,
   "metadata": {},
   "outputs": [],
   "source": []
  }
 ],
 "metadata": {
  "kernelspec": {
   "display_name": "Python 3",
   "language": "python",
   "name": "python3"
  },
  "language_info": {
   "codemirror_mode": {
    "name": "ipython",
    "version": 3
   },
   "file_extension": ".py",
   "mimetype": "text/x-python",
   "name": "python",
   "nbconvert_exporter": "python",
   "pygments_lexer": "ipython3",
   "version": "3.7.3"
  }
 },
 "nbformat": 4,
 "nbformat_minor": 2
}
