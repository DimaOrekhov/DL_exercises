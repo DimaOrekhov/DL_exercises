{
 "cells": [
  {
   "cell_type": "code",
   "execution_count": 18,
   "metadata": {},
   "outputs": [],
   "source": [
    "import os\n",
    "import string\n",
    "import pandas as pd\n",
    "import numpy as np\n",
    "import matplotlib.pyplot as plt\n",
    "from tqdm import tqdm_notebook\n",
    "import gc\n",
    "\n",
    "import torch\n",
    "from torch import nn\n",
    "from torch.utils.data import DataLoader, Dataset\n",
    "from torch.nn.utils.rnn import *"
   ]
  },
  {
   "cell_type": "code",
   "execution_count": 19,
   "metadata": {},
   "outputs": [
    {
     "data": {
      "text/plain": [
       "['ArticlesFeb2017.csv',\n",
       " 'CommentsFeb2018.csv',\n",
       " 'ArticlesApril2017.csv',\n",
       " 'CommentsApril2018.csv',\n",
       " 'ArticlesMarch2018.csv',\n",
       " 'CommentsMarch2017.csv',\n",
       " 'ArticlesMay2017.csv',\n",
       " 'ArticlesJan2017.csv',\n",
       " 'CommentsJan2018.csv',\n",
       " 'CommentsMarch2018.csv',\n",
       " 'ArticlesJan2018.csv',\n",
       " 'CommentsMay2017.csv',\n",
       " 'CommentsJan2017.csv',\n",
       " 'ArticlesMarch2017.csv',\n",
       " 'CommentsApril2017.csv',\n",
       " 'ArticlesFeb2018.csv',\n",
       " 'CommentsFeb2017.csv',\n",
       " 'ArticlesApril2018.csv']"
      ]
     },
     "execution_count": 19,
     "metadata": {},
     "output_type": "execute_result"
    }
   ],
   "source": [
    "os.listdir('Data/nyt-comments/')"
   ]
  },
  {
   "cell_type": "code",
   "execution_count": 20,
   "metadata": {},
   "outputs": [],
   "source": [
    "DATA_DIR = 'Data/nyt-comments/'"
   ]
  },
  {
   "cell_type": "markdown",
   "metadata": {},
   "source": [
    "## Composing data set:"
   ]
  },
  {
   "cell_type": "code",
   "execution_count": 21,
   "metadata": {},
   "outputs": [
    {
     "name": "stdout",
     "output_type": "stream",
     "text": [
      "8603\n"
     ]
    }
   ],
   "source": [
    "headlines = []\n",
    "for filename in os.listdir(DATA_DIR):\n",
    "    if 'Articles' in filename:\n",
    "        curr = pd.read_csv(os.path.join(DATA_DIR, filename))\n",
    "        headlines += list(curr['headline'].values)\n",
    "headlines = [hl for hl in headlines if hl != 'Unknown']\n",
    "print(len(headlines))"
   ]
  },
  {
   "cell_type": "code",
   "execution_count": 22,
   "metadata": {},
   "outputs": [],
   "source": [
    "def preprocess(x):\n",
    "    res = \"\".join(ch for ch in x if ch not in string.punctuation).lower()\n",
    "    res = res.encode(\"utf8\").decode(\"ascii\",'ignore')\n",
    "    return res"
   ]
  },
  {
   "cell_type": "code",
   "execution_count": 23,
   "metadata": {},
   "outputs": [],
   "source": [
    "headlines = [preprocess(x) for x in headlines]"
   ]
  },
  {
   "cell_type": "markdown",
   "metadata": {},
   "source": [
    "## Importing pre-trained GLOVE embedding:"
   ]
  },
  {
   "cell_type": "code",
   "execution_count": 24,
   "metadata": {},
   "outputs": [],
   "source": [
    "EMB_FILE = 'Data/glove/glove.6B.50d.txt'"
   ]
  },
  {
   "cell_type": "code",
   "execution_count": 25,
   "metadata": {},
   "outputs": [],
   "source": [
    "class Tokenizer:\n",
    "    \n",
    "    def __init__(self, corpus):\n",
    "        self.unique_tokens = set(['PAD', '<\\s>'])\n",
    "        self.new_corpus = []\n",
    "        print('Getting unique tokens')\n",
    "        for i, sentence in tqdm_notebook(enumerate(corpus)):\n",
    "            [self.unique_tokens.add(word) for word in sentence.split()]\n",
    "            self.new_corpus.append(sentence + ' <\\s>')\n",
    "            \n",
    "    def filter_embeddings(self, emb_file):\n",
    "        self.words = ['PAD', '<\\s>']\n",
    "        self.vecs = []\n",
    "        print('Filtering embeddings')\n",
    "        with open(emb_file) as fn:\n",
    "            for line in tqdm_notebook(fn):\n",
    "                line = line.strip().split(' ')\n",
    "                if line[0] in self.unique_tokens:\n",
    "                    self.words.append(line[0])\n",
    "                    self.vecs.append(np.array([float(num) for num in line[1:]]))\n",
    "        self.vecs.insert(0, np.random.randn(*self.vecs[0].shape))\n",
    "        self.vecs.insert(0, np.random.randn(*self.vecs[0].shape))\n",
    "        self.index_dic = {word:i for i, word in enumerate(self.words)}\n",
    "        \n",
    "    def tokenize(self):\n",
    "        self.tokenized = []\n",
    "        for sentence in self.new_corpus:\n",
    "            t_seq = []\n",
    "            for word in sentence.split(' '):\n",
    "                try:\n",
    "                    token = self.index_dic[word]\n",
    "                    t_seq.append(token)\n",
    "                except:\n",
    "                    new_index = len(self.index_dic)\n",
    "                    self.index_dic[word] = new_index\n",
    "                    t_seq.append(new_index)\n",
    "                    self.vecs.append(np.random.randn(*self.vecs[0].shape))\n",
    "                    assert(len(self.index_dic) == len(self.vecs))\n",
    "            self.tokenized.append(t_seq)\n",
    "        self.inv_dic = {v:k for k, v in self.index_dic.items()}\n",
    "        return self.tokenized, np.vstack(self.vecs).astype('float32')"
   ]
  },
  {
   "cell_type": "code",
   "execution_count": 26,
   "metadata": {},
   "outputs": [
    {
     "name": "stdout",
     "output_type": "stream",
     "text": [
      "Getting unique tokens\n"
     ]
    },
    {
     "data": {
      "application/vnd.jupyter.widget-view+json": {
       "model_id": "572626d766c54ce19125b1eba03d1d78",
       "version_major": 2,
       "version_minor": 0
      },
      "text/plain": [
       "HBox(children=(IntProgress(value=1, bar_style='info', max=1), HTML(value='')))"
      ]
     },
     "metadata": {},
     "output_type": "display_data"
    },
    {
     "name": "stdout",
     "output_type": "stream",
     "text": [
      "\n"
     ]
    }
   ],
   "source": [
    "tokenizer = Tokenizer(headlines)"
   ]
  },
  {
   "cell_type": "code",
   "execution_count": 27,
   "metadata": {},
   "outputs": [
    {
     "name": "stdout",
     "output_type": "stream",
     "text": [
      "Filtering embeddings\n"
     ]
    },
    {
     "data": {
      "application/vnd.jupyter.widget-view+json": {
       "model_id": "011fc03fcb0443f3986d546e5d7b1826",
       "version_major": 2,
       "version_minor": 0
      },
      "text/plain": [
       "HBox(children=(IntProgress(value=1, bar_style='info', max=1), HTML(value='')))"
      ]
     },
     "metadata": {},
     "output_type": "display_data"
    },
    {
     "name": "stdout",
     "output_type": "stream",
     "text": [
      "\n"
     ]
    }
   ],
   "source": [
    "tokenizer.filter_embeddings(EMB_FILE)"
   ]
  },
  {
   "cell_type": "code",
   "execution_count": 28,
   "metadata": {},
   "outputs": [],
   "source": [
    "tokenized_corpus, vecs = tokenizer.tokenize()"
   ]
  },
  {
   "cell_type": "code",
   "execution_count": 29,
   "metadata": {},
   "outputs": [
    {
     "data": {
      "image/png": "[encoded data removed]",
      "text/plain": [
       "<Figure size 432x288 with 1 Axes>"
      ]
     },
     "metadata": {
      "needs_background": "light"
     },
     "output_type": "display_data"
    }
   ],
   "source": [
    "plt.hist([len(x) for x in tokenizer.tokenized])\n",
    "plt.title('Length of sentences in data set')\n",
    "_ = plt.xlabel('Number of words')"
   ]
  },
  {
   "cell_type": "code",
   "execution_count": 35,
   "metadata": {},
   "outputs": [],
   "source": [
    "class SequenceDataset(Dataset):\n",
    "    \n",
    "    def __init__(self, tokenized):\n",
    "        self.tokenized = [torch.tensor(seq) for seq in tokenized]\n",
    "    \n",
    "    def __getitem__(self, idx):\n",
    "        if type(idx) == slice:\n",
    "            #Dataloader doesn't use slices \n",
    "            #Thus this piece of code isn't used\n",
    "            #Left if one would lije to modify overall pipeline and work with slices\n",
    "            x = self.tokenized[idx]\n",
    "            y = [seq[1:] for seq in x]\n",
    "            x = [seq[:-1] for seq in x]\n",
    "            lengths = [len(seq) for seq in x]\n",
    "            x = pad_sequence(x) #from torch.nn.utils.rnn\n",
    "            y = pad_sequence(y)\n",
    "            return x, y, lengths\n",
    "        elif type(idx) == int:\n",
    "            x = self.tokenized[idx][:-1]\n",
    "            y = self.tokenized[idx][1:]\n",
    "            length = len(x)\n",
    "            return x, y, length\n",
    "        else:\n",
    "            raise TypeError('Incorrect index type')\n",
    "            \n",
    "    def __len__(self):\n",
    "        return len(self.tokenized)\n",
    "\n",
    "def custom_collate(data):\n",
    "    data = sorted(data, key=lambda x: x[2], reverse=True) #Consider whether you need enforce_sorted=True\n",
    "    x, y, lengths = zip(*data)\n",
    "    x = pad_sequence(x)\n",
    "    y = pad_sequence(y)\n",
    "    return x, y, lengths\n",
    "\n",
    "class LanguageModel(nn.Module):\n",
    "    \n",
    "    def __init__(self, embeddings, h_size, train_emb=False):\n",
    "        super().__init__()\n",
    "        self.embedding = nn.Embedding.from_pretrained(torch.from_numpy(embeddings))\n",
    "        self.vocab_size = embeddings.shape[0]\n",
    "        self.train_emb = train_emb\n",
    "        if train_emb:\n",
    "            self.embedding.weight.requires_grad = True # if we want to continue training\n",
    "            parameters = self.parameters()\n",
    "        else:\n",
    "            parameters = filter(lambda x: x.requires_grad, self.parameters())\n",
    "            \n",
    "        self.h_size = h_size\n",
    "        self.lstm = nn.LSTM(embeddings.shape[1], h_size)\n",
    "        self.hidden = None\n",
    "        self.fc = nn.Linear(h_size, self.vocab_size)\n",
    "        self.lsm = nn.LogSoftmax(dim=-1)\n",
    "        #self.asm = nn.AdaptiveLogSoftmaxWithLoss() #Consider!\n",
    "\n",
    "        self.opt = torch.optim.Adam(parameters)\n",
    "        self.loss_fn = torch.nn.NLLLoss(reduction='mean')\n",
    "        \n",
    "    def init_hidden(self, batch_size):\n",
    "        self.hidden = [torch.randn((1, batch_size, self.h_size)).type('torch.FloatTensor') for _ in range(2)]\n",
    "        \n",
    "    def forward(self, x, lengths):\n",
    "        x = self.embedding(x)\n",
    "        x = pack_padded_sequence(x, lengths)\n",
    "        x, self.hidden = self.lstm(x, self.hidden)\n",
    "        x, pl = pad_packed_sequence(x)\n",
    "        x = self.lsm(self.fc(x))\n",
    "        return x, pl\n",
    "    \n",
    "    def fit(self, dataset, n_epochs, batch_size):\n",
    "        dl = DataLoader(dataset, batch_size=batch_size, shuffle=True, collate_fn=custom_collate)\n",
    "        for i in tqdm_notebook(range(n_epochs)):\n",
    "            r_loss = 0\n",
    "            j = 0\n",
    "            for x_batch, y_batch, lengths in dl:\n",
    "                #print(j)\n",
    "                bs = x_batch.shape[1]\n",
    "                self.init_hidden(bs)\n",
    "                #out, _ = self.forward(x_batch, lengths)\n",
    "                try:\n",
    "                    out, _ = self.forward(x_batch, lengths)\n",
    "                except:\n",
    "                    return x_batch, y_batch, lengths\n",
    "                self.opt.zero_grad()\n",
    "                try:\n",
    "                    loss_val = self.loss_fn(out.view(-1, self.vocab_size), y_batch.flatten())\n",
    "                except:\n",
    "                    print(i, j)\n",
    "                    return x_batch, y_batch, lengths, out\n",
    "                loss_val.backward()\n",
    "                self.opt.step()\n",
    "                \n",
    "                r_loss += loss_val.item()\n",
    "                j += 1\n",
    "            print(f'Epoch {i}, loss: {round(r_loss/j, 5)}')\n",
    "            \n",
    "    def generate(self, start_word, tokenizer, sample=False):\n",
    "        self.eval()\n",
    "        with torch.no_grad():\n",
    "            curr_index = tokenizer.index_dic[start_word]\n",
    "            self.init_hidden(1)\n",
    "            sequence = [curr_index]\n",
    "            while curr_index != 1: #1 is EOS index\n",
    "                curr_tensor = torch.tensor([curr_index]).view(1, 1)\n",
    "                out, _ = self(curr_tensor, [1])\n",
    "                if sample:\n",
    "                    curr_index = np.random.choice(out.shape[-1], p=out.flatten().exp().numpy())\n",
    "                else:\n",
    "                    curr_index = torch.argmax(out).item()\n",
    "                sequence.append(curr_index)\n",
    "            sequence = ' '.join([tokenizer.inv_dic[idx] for idx in sequence])\n",
    "        return sequence"
   ]
  },
  {
   "cell_type": "code",
   "execution_count": 36,
   "metadata": {},
   "outputs": [],
   "source": [
    "HIDDEN_SIZE = 32\n",
    "BATCH_SIZE = 16\n",
    "N_EPOCHS = 50"
   ]
  },
  {
   "cell_type": "code",
   "execution_count": 37,
   "metadata": {},
   "outputs": [],
   "source": [
    "dataset = SequenceDataset(tokenized_corpus)"
   ]
  },
  {
   "cell_type": "code",
   "execution_count": 38,
   "metadata": {},
   "outputs": [],
   "source": [
    "model = LanguageModel(vecs, HIDDEN_SIZE)"
   ]
  },
  {
   "cell_type": "code",
   "execution_count": 39,
   "metadata": {},
   "outputs": [
    {
     "data": {
      "application/vnd.jupyter.widget-view+json": {
       "model_id": "b73935a591bc499592c28a138c75a5bc",
       "version_major": 2,
       "version_minor": 0
      },
      "text/plain": [
       "HBox(children=(IntProgress(value=0, max=50), HTML(value='')))"
      ]
     },
     "metadata": {},
     "output_type": "display_data"
    },
    {
     "name": "stdout",
     "output_type": "stream",
     "text": [
      "Epoch 0, loss: 8.08627\n",
      "Epoch 1, loss: 7.44987\n",
      "Epoch 2, loss: 7.13129\n",
      "Epoch 3, loss: 6.81872\n",
      "Epoch 4, loss: 6.5097\n",
      "Epoch 5, loss: 6.1968\n",
      "Epoch 6, loss: 5.88512\n",
      "Epoch 7, loss: 5.57657\n",
      "Epoch 8, loss: 5.27119\n",
      "Epoch 9, loss: 4.9825\n",
      "Epoch 10, loss: 4.69003\n",
      "Epoch 11, loss: 4.41025\n",
      "Epoch 12, loss: 4.15464\n",
      "Epoch 13, loss: 3.93017\n",
      "Epoch 14, loss: 3.71844\n",
      "Epoch 15, loss: 3.56279\n",
      "Epoch 16, loss: 3.44058\n",
      "Epoch 17, loss: 3.34048\n",
      "Epoch 18, loss: 3.23965\n",
      "Epoch 19, loss: 3.1692\n",
      "Epoch 20, loss: 3.11802\n",
      "Epoch 21, loss: 3.08116\n",
      "Epoch 22, loss: 3.04657\n",
      "Epoch 23, loss: 2.99471\n",
      "Epoch 24, loss: 2.98284\n",
      "Epoch 25, loss: 2.94257\n",
      "Epoch 26, loss: 2.92351\n",
      "Epoch 27, loss: 2.88537\n",
      "Epoch 28, loss: 2.86145\n",
      "Epoch 29, loss: 2.85256\n",
      "Epoch 30, loss: 2.82741\n",
      "Epoch 31, loss: 2.79446\n",
      "Epoch 32, loss: 2.79359\n",
      "Epoch 33, loss: 2.77608\n",
      "Epoch 34, loss: 2.75567\n",
      "Epoch 35, loss: 2.71963\n",
      "Epoch 36, loss: 2.71617\n",
      "Epoch 37, loss: 2.70122\n",
      "Epoch 38, loss: 2.69524\n",
      "Epoch 39, loss: 2.67492\n",
      "Epoch 40, loss: 2.67589\n",
      "Epoch 41, loss: 2.6662\n",
      "Epoch 42, loss: 2.6493\n",
      "Epoch 43, loss: 2.64231\n",
      "Epoch 44, loss: 2.61218\n",
      "Epoch 45, loss: 2.61636\n",
      "Epoch 46, loss: 2.5992\n",
      "Epoch 47, loss: 2.59085\n",
      "Epoch 48, loss: 2.58783\n",
      "Epoch 49, loss: 2.56724\n"
     ]
    }
   ],
   "source": [
    "res = model.fit(dataset, N_EPOCHS, BATCH_SIZE)"
   ]
  },
  {
   "cell_type": "code",
   "execution_count": 62,
   "metadata": {},
   "outputs": [
    {
     "name": "stdout",
     "output_type": "stream",
     "text": [
      "world endings gently <\\s>\n",
      "world rise flynns bookworms eating <\\s>\n",
      "world interests spending for the focus <\\s>\n",
      "world at veterans affairs up trying shutdown gentrification <\\s>\n",
      "world am preparing in school shooting vs meets railroads <\\s>\n",
      "world cup politics <\\s>\n",
      "world to transgender wages <\\s>\n",
      "world men held jail <\\s>\n",
      "world invites is wrong are again <\\s>\n",
      "world a happy latest spectators maligning full neighbors all of flood widens problems <\\s>\n"
     ]
    }
   ],
   "source": [
    "for i in range(10):\n",
    "    print(model.generate('world', tokenizer, sample=True))"
   ]
  },
  {
   "cell_type": "code",
   "execution_count": 65,
   "metadata": {},
   "outputs": [
    {
     "name": "stdout",
     "output_type": "stream",
     "text": [
      "world of the world <\\s>\n",
      "world of the world <\\s>\n",
      "world to the world <\\s>\n",
      "world <\\s>\n",
      "world of the world <\\s>\n",
      "world fiddler <\\s>\n",
      "world of the world <\\s>\n",
      "world of the world <\\s>\n",
      "world of the world <\\s>\n",
      "world bridges <\\s>\n"
     ]
    }
   ],
   "source": [
    "for i in range(10):\n",
    "    print(model.generate('world', tokenizer, sample=False))"
   ]
  },
  {
   "cell_type": "code",
   "execution_count": 69,
   "metadata": {},
   "outputs": [
    {
     "name": "stdout",
     "output_type": "stream",
     "text": [
      "new york today for approach <\\s>\n",
      "new york today to china with get labor students 26 <\\s>\n",
      "new first upper east starbucks with caffeine athletes <\\s>\n",
      "new york today documenting tips for blood was police its a personal touch <\\s>\n",
      "new  moments <\\s>\n",
      "new york today google feel theyre checkpoints easy presidential muscle inquiry <\\s>\n",
      "new york today taxpayer <\\s>\n",
      "new york our coming with all some kids her 8 my husbands <\\s>\n",
      "new challenges query hope to end at moods <\\s>\n",
      "new york today lesson a fun <\\s>\n"
     ]
    }
   ],
   "source": [
    "for i in range(10):\n",
    "    print(model.generate('new', tokenizer, sample=True))"
   ]
  },
  {
   "cell_type": "code",
   "execution_count": 70,
   "metadata": {},
   "outputs": [
    {
     "name": "stdout",
     "output_type": "stream",
     "text": [
      "new york today a new of a liquid <\\s>\n",
      "new york today a new of a liquid <\\s>\n",
      "new york today a new of a liquid <\\s>\n",
      "new york today a new of a liquid <\\s>\n",
      "new york today a new of a liquid <\\s>\n",
      "new york today a new of a liquid <\\s>\n",
      "new york today a new of a liquid <\\s>\n",
      "new york today a new of a liquid <\\s>\n",
      "new york today a new of a liquid <\\s>\n",
      "new york today a new of a liquid <\\s>\n"
     ]
    }
   ],
   "source": [
    "for i in range(10):\n",
    "    print(model.generate('new', tokenizer, sample=False))"
   ]
  },
  {
   "cell_type": "code",
   "execution_count": null,
   "metadata": {},
   "outputs": [],
   "source": []
  }
 ],
 "metadata": {
  "kernelspec": {
   "display_name": "Python 3",
   "language": "python",
   "name": "python3"
  },
  "language_info": {
   "codemirror_mode": {
    "name": "ipython",
    "version": 3
   },
   "file_extension": ".py",
   "mimetype": "text/x-python",
   "name": "python",
   "nbconvert_exporter": "python",
   "pygments_lexer": "ipython3",
   "version": "3.7.3"
  }
 },
 "nbformat": 4,
 "nbformat_minor": 2
}
